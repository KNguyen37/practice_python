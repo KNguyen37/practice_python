{
 "cells": [
  {
   "cell_type": "markdown",
   "metadata": {},
   "source": [
    "**Python Function Practice**"
   ]
  },
  {
   "cell_type": "markdown",
   "metadata": {},
   "source": [
    "1. Temperature Converter\n",
    "\n",
    "I want to create a temp converter C<->F, C<->K.\n",
    "\n",
    "Formula:\\\n",
    "C to F: F = (C × 9/5) + 32 \\\n",
    "F to C: C = (F - 32) × 5/9 \\\n",
    "C to K: K = C + 273.15 \\\n",
    "K to C: C = K - 273.15 \n",
    "\n",
    "What I need:\\\n",
    "User input\\\n",
    "Ask what conversion user want\\\n",
    "Math process\\\n",
    "Show result"
   ]
  },
  {
   "cell_type": "code",
   "execution_count": 7,
   "metadata": {},
   "outputs": [
    {
     "name": "stdout",
     "output_type": "stream",
     "text": [
      "Temperature conversion:\n",
      "1. C -> F\n",
      "2. F -> C\n",
      "3. C -> K\n",
      "4. K -> C\n",
      "32.0°F = 0.0°C\n"
     ]
    }
   ],
   "source": [
    "def celsius_to_fahrenhiet(temp):\n",
    "    return (temp * 9/5) + 32\n",
    "\n",
    "def fahrenhiet_to_celsius(temp):\n",
    "    return (temp - 32) * 5/9\n",
    "\n",
    "def celsius_to_kevin(temp):\n",
    "    return (temp + 273.15)\n",
    "\n",
    "def kevin_to_celsius(temp):\n",
    "    return (temp - 273.15)\n",
    "\n",
    "def main():\n",
    "    print(\"Temperature conversion:\")\n",
    "    print(\"1. C -> F\")\n",
    "    print(\"2. F -> C\")\n",
    "    print(\"3. C -> K\")\n",
    "    print(\"4. K -> C\")\n",
    "    \n",
    "    choice = input(\"Choose conversion (1-4): \")\n",
    "    temp = float(input(\"Enter temperature: \"))\n",
    "    \n",
    "    if choice == \"1\":\n",
    "        print(f\"{temp}°C = {celsius_to_fahrenhiet(temp)}°F\")\n",
    "    elif choice == \"2\":\n",
    "        print(f\"{temp}°F = {fahrenhiet_to_celsius(temp)}°C\")\n",
    "    elif choice == \"3\":\n",
    "        print(f\"{temp}°C = {celsius_to_kevin(temp)}°K\")\n",
    "    else:\n",
    "        print(f\"{temp}°K = {kevin_to_celsius(temp)}°C\")\n",
    "        \n",
    "main()"
   ]
  },
  {
   "cell_type": "markdown",
   "metadata": {},
   "source": []
  },
  {
   "cell_type": "code",
   "execution_count": null,
   "metadata": {},
   "outputs": [],
   "source": []
  },
  {
   "cell_type": "markdown",
   "metadata": {},
   "source": []
  }
 ],
 "metadata": {
  "kernelspec": {
   "display_name": "base",
   "language": "python",
   "name": "python3"
  },
  "language_info": {
   "codemirror_mode": {
    "name": "ipython",
    "version": 3
   },
   "file_extension": ".py",
   "mimetype": "text/x-python",
   "name": "python",
   "nbconvert_exporter": "python",
   "pygments_lexer": "ipython3",
   "version": "3.9.7"
  }
 },
 "nbformat": 4,
 "nbformat_minor": 2
}
